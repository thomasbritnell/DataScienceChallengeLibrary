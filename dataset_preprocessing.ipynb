{
  "cells": [
    {
      "cell_type": "markdown",
      "metadata": {
        "id": "view-in-github",
        "colab_type": "text"
      },
      "source": [
        "<a href=\"https://colab.research.google.com/github/thomasbritnell/DataScienceChallengeLibrary/blob/main/dataset_preprocessing.ipynb\" target=\"_parent\"><img src=\"https://colab.research.google.com/assets/colab-badge.svg\" alt=\"Open In Colab\"/></a>"
      ]
    },
    {
      "cell_type": "code",
      "execution_count": null,
      "id": "582a44ab",
      "metadata": {
        "id": "582a44ab"
      },
      "outputs": [],
      "source": [
        "# Install dependencies\n",
        "%pip install -q pandas numpy scikit-learn openpyxl"
      ]
    },
    {
      "cell_type": "code",
      "execution_count": null,
      "id": "aaa55bdb",
      "metadata": {
        "colab": {
          "base_uri": "https://localhost:8080/"
        },
        "id": "aaa55bdb",
        "outputId": "41e6e58b-cf2e-4fc2-f144-11f5d4fe81ee"
      },
      "outputs": [
        {
          "output_type": "stream",
          "name": "stdout",
          "text": [
            "Mounted at /content/drive\n"
          ]
        }
      ],
      "source": [
        "# Mount Google Drive\n",
        "from google.colab import drive\n",
        "drive.mount('/content/drive')"
      ]
    },
    {
      "cell_type": "code",
      "execution_count": null,
      "id": "96f03b40",
      "metadata": {
        "id": "96f03b40"
      },
      "outputs": [],
      "source": [
        "# Import packages\n",
        "import os, zipfile\n",
        "import pandas as pd\n",
        "import numpy as np\n",
        "from sklearn.impute import SimpleImputer\n",
        "from sklearn.preprocessing import LabelEncoder, StandardScaler\n",
        "import warnings\n",
        "warnings.filterwarnings('ignore')\n",
        "\n",
        "# Set paths\n",
        "base_path = '/content/drive/MyDrive/AI_Datasets'\n",
        "cleaned_path = os.path.join(base_path, 'cleaned_datasets')\n",
        "os.makedirs(cleaned_path, exist_ok=True)"
      ]
    },
    {
      "cell_type": "markdown",
      "id": "e60a88b2",
      "metadata": {
        "id": "e60a88b2"
      },
      "source": [
        "### Unzip `AmazonReviews.zip`"
      ]
    },
    {
      "cell_type": "code",
      "execution_count": 15,
      "id": "58b59d1e",
      "metadata": {
        "colab": {
          "base_uri": "https://localhost:8080/"
        },
        "id": "58b59d1e",
        "outputId": "8a6863c8-fbe9-4d48-e1d6-dfc7f0437f6f"
      },
      "outputs": [
        {
          "output_type": "stream",
          "name": "stdout",
          "text": [
            "Unzipped: AmazonReviews.zip\n"
          ]
        }
      ],
      "source": [
        "with zipfile.ZipFile(os.path.join(base_path, 'AmazonReviews.zip'), 'r') as zip_ref:\n",
        "    zip_ref.extractall(base_path)\n",
        "print('Unzipped: AmazonReviews.zip')"
      ]
    },
    {
      "cell_type": "markdown",
      "id": "0802334e",
      "metadata": {
        "id": "0802334e"
      },
      "source": [
        "### Unzip `creditcard.csv.zip`"
      ]
    },
    {
      "cell_type": "code",
      "execution_count": null,
      "id": "d82d666d",
      "metadata": {
        "colab": {
          "base_uri": "https://localhost:8080/"
        },
        "id": "d82d666d",
        "outputId": "a87c7b34-3e1e-4e28-d0d1-68bbf8bb5a9f"
      },
      "outputs": [
        {
          "output_type": "stream",
          "name": "stdout",
          "text": [
            "Unzipped: creditcard.csv.zip\n"
          ]
        }
      ],
      "source": [
        "with zipfile.ZipFile(os.path.join(base_path, 'creditcard.csv.zip'), 'r') as zip_ref:\n",
        "    zip_ref.extractall(base_path)\n",
        "print('Unzipped: creditcard.csv.zip')"
      ]
    },
    {
      "cell_type": "markdown",
      "id": "a5391ae9",
      "metadata": {
        "id": "a5391ae9"
      },
      "source": [
        "### Unzip `dirty_deputies.csv.zip`"
      ]
    },
    {
      "cell_type": "code",
      "execution_count": null,
      "id": "2f7f0ebc",
      "metadata": {
        "colab": {
          "base_uri": "https://localhost:8080/"
        },
        "id": "2f7f0ebc",
        "outputId": "5f16f3f9-c916-43a4-97b1-5382ab03cf07"
      },
      "outputs": [
        {
          "output_type": "stream",
          "name": "stdout",
          "text": [
            "Unzipped: dirty_deputies.csv.zip\n"
          ]
        }
      ],
      "source": [
        "with zipfile.ZipFile(os.path.join(base_path, 'dirty_deputies.csv.zip'), 'r') as zip_ref:\n",
        "    zip_ref.extractall(base_path)\n",
        "print('Unzipped: dirty_deputies.csv.zip')"
      ]
    },
    {
      "cell_type": "markdown",
      "id": "c8c5b94f",
      "metadata": {
        "id": "c8c5b94f"
      },
      "source": [
        "### Preprocess `Cleveland.csv`"
      ]
    },
    {
      "cell_type": "code",
      "execution_count": null,
      "id": "cf9b8d63",
      "metadata": {
        "colab": {
          "base_uri": "https://localhost:8080/"
        },
        "id": "cf9b8d63",
        "outputId": "e4a3bf33-8675-4a79-eed4-3bec62c6edd9"
      },
      "outputs": [
        {
          "output_type": "stream",
          "name": "stdout",
          "text": [
            "Original shape: (297, 14)\n",
            "Saved cleaned dataset: cleaned_Cleveland.csv\n"
          ]
        }
      ],
      "source": [
        "# Load and preprocess Cleveland.csv\n",
        "file_path = os.path.join(base_path, 'Cleveland.csv')\n",
        "df = pd.read_csv(file_path)\n",
        "print('Original shape:', df.shape)\n",
        "\n",
        "# Drop columns with >50% missing\n",
        "df = df.dropna(thresh=len(df)*0.5, axis=1)\n",
        "\n",
        "# Identify column types\n",
        "numeric_cols = df.select_dtypes(include='number').columns.tolist()\n",
        "categorical_cols = df.select_dtypes(exclude='number').columns.tolist()\n",
        "\n",
        "# Impute\n",
        "if numeric_cols:\n",
        "    df[numeric_cols] = SimpleImputer(strategy='mean').fit_transform(df[numeric_cols])\n",
        "for col in categorical_cols:\n",
        "    df[col] = df[col].fillna(df[col].mode()[0] if not df[col].mode().empty else 'missing')\n",
        "\n",
        "# Encode categoricals\n",
        "for col in categorical_cols:\n",
        "    if df[col].nunique() <= 10:\n",
        "        df = pd.get_dummies(df, columns=[col], drop_first=True)\n",
        "    else:\n",
        "        df[col] = LabelEncoder().fit_transform(df[col])\n",
        "\n",
        "# Scale numeric columns\n",
        "if numeric_cols:\n",
        "    df[numeric_cols] = StandardScaler().fit_transform(df[numeric_cols])\n",
        "\n",
        "# Save cleaned version\n",
        "df.to_csv(os.path.join(cleaned_path, 'cleaned_Cleveland.csv'), index=False)\n",
        "print('Saved cleaned dataset: cleaned_Cleveland.csv')"
      ]
    },
    {
      "cell_type": "markdown",
      "id": "c409d8b5",
      "metadata": {
        "id": "c409d8b5"
      },
      "source": [
        "### Preprocess `netflix_titles.csv`"
      ]
    },
    {
      "cell_type": "code",
      "execution_count": null,
      "id": "b999b812",
      "metadata": {
        "colab": {
          "base_uri": "https://localhost:8080/"
        },
        "id": "b999b812",
        "outputId": "72fdfcc8-5730-49d3-d5c0-ed2117a23dc1"
      },
      "outputs": [
        {
          "output_type": "stream",
          "name": "stdout",
          "text": [
            "Original shape: (8807, 12)\n",
            "Saved cleaned dataset: cleaned_netflix_titles.csv\n"
          ]
        }
      ],
      "source": [
        "# Load and preprocess netflix_titles.csv\n",
        "file_path = os.path.join(base_path, 'netflix_titles.csv')\n",
        "df = pd.read_csv(file_path)\n",
        "print('Original shape:', df.shape)\n",
        "\n",
        "# Drop columns with >50% missing\n",
        "df = df.dropna(thresh=len(df)*0.5, axis=1)\n",
        "\n",
        "# Identify column types\n",
        "numeric_cols = df.select_dtypes(include='number').columns.tolist()\n",
        "categorical_cols = df.select_dtypes(exclude='number').columns.tolist()\n",
        "\n",
        "# Impute\n",
        "if numeric_cols:\n",
        "    df[numeric_cols] = SimpleImputer(strategy='mean').fit_transform(df[numeric_cols])\n",
        "for col in categorical_cols:\n",
        "    df[col] = df[col].fillna(df[col].mode()[0] if not df[col].mode().empty else 'missing')\n",
        "\n",
        "# Encode categoricals\n",
        "for col in categorical_cols:\n",
        "    if df[col].nunique() <= 10:\n",
        "        df = pd.get_dummies(df, columns=[col], drop_first=True)\n",
        "    else:\n",
        "        df[col] = LabelEncoder().fit_transform(df[col])\n",
        "\n",
        "# Scale numeric columns\n",
        "if numeric_cols:\n",
        "    df[numeric_cols] = StandardScaler().fit_transform(df[numeric_cols])\n",
        "\n",
        "# Save cleaned version\n",
        "df.to_csv(os.path.join(cleaned_path, 'cleaned_netflix_titles.csv'), index=False)\n",
        "print('Saved cleaned dataset: cleaned_netflix_titles.csv')"
      ]
    },
    {
      "cell_type": "markdown",
      "id": "7d5c62a1",
      "metadata": {
        "id": "7d5c62a1"
      },
      "source": [
        "### Preprocess `SpotifyFeatures.csv`"
      ]
    },
    {
      "cell_type": "code",
      "execution_count": null,
      "id": "2110cc90",
      "metadata": {
        "colab": {
          "base_uri": "https://localhost:8080/"
        },
        "id": "2110cc90",
        "outputId": "80f6050f-5f08-4c4f-d999-5dbc8ce73d99"
      },
      "outputs": [
        {
          "output_type": "stream",
          "name": "stdout",
          "text": [
            "Original shape: (232725, 18)\n",
            "Saved cleaned dataset: cleaned_SpotifyFeatures.csv\n"
          ]
        }
      ],
      "source": [
        "# Load and preprocess SpotifyFeatures.csv\n",
        "file_path = os.path.join(base_path, 'SpotifyFeatures.csv')\n",
        "df = pd.read_csv(file_path)\n",
        "print('Original shape:', df.shape)\n",
        "\n",
        "# Drop columns with >50% missing\n",
        "df = df.dropna(thresh=len(df)*0.5, axis=1)\n",
        "\n",
        "# Identify column types\n",
        "numeric_cols = df.select_dtypes(include='number').columns.tolist()\n",
        "categorical_cols = df.select_dtypes(exclude='number').columns.tolist()\n",
        "\n",
        "# Impute\n",
        "if numeric_cols:\n",
        "    df[numeric_cols] = SimpleImputer(strategy='mean').fit_transform(df[numeric_cols])\n",
        "for col in categorical_cols:\n",
        "    df[col] = df[col].fillna(df[col].mode()[0] if not df[col].mode().empty else 'missing')\n",
        "\n",
        "# Encode categoricals\n",
        "for col in categorical_cols:\n",
        "    if df[col].nunique() <= 10:\n",
        "        df = pd.get_dummies(df, columns=[col], drop_first=True)\n",
        "    else:\n",
        "        df[col] = LabelEncoder().fit_transform(df[col])\n",
        "\n",
        "# Scale numeric columns\n",
        "if numeric_cols:\n",
        "    df[numeric_cols] = StandardScaler().fit_transform(df[numeric_cols])\n",
        "\n",
        "# Save cleaned version\n",
        "df.to_csv(os.path.join(cleaned_path, 'cleaned_SpotifyFeatures.csv'), index=False)\n",
        "print('Saved cleaned dataset: cleaned_SpotifyFeatures.csv')"
      ]
    },
    {
      "cell_type": "markdown",
      "id": "07be6db9",
      "metadata": {
        "id": "07be6db9"
      },
      "source": [
        "### Preprocess `Titanic.csv`"
      ]
    },
    {
      "cell_type": "code",
      "execution_count": null,
      "id": "147c6b70",
      "metadata": {
        "colab": {
          "base_uri": "https://localhost:8080/"
        },
        "id": "147c6b70",
        "outputId": "42dbf5e3-acb6-4af5-a7be-9d9aa9bb17d7"
      },
      "outputs": [
        {
          "output_type": "stream",
          "name": "stdout",
          "text": [
            "Original shape: (1309, 28)\n",
            "Saved cleaned dataset: cleaned_Titanic.csv\n"
          ]
        }
      ],
      "source": [
        "# Load and preprocess Titanic.csv\n",
        "file_path = os.path.join(base_path, 'Titanic.csv')\n",
        "df = pd.read_csv(file_path)\n",
        "print('Original shape:', df.shape)\n",
        "\n",
        "# Drop columns with >50% missing\n",
        "df = df.dropna(thresh=len(df)*0.5, axis=1)\n",
        "\n",
        "# Identify column types\n",
        "numeric_cols = df.select_dtypes(include='number').columns.tolist()\n",
        "categorical_cols = df.select_dtypes(exclude='number').columns.tolist()\n",
        "\n",
        "# Impute\n",
        "if numeric_cols:\n",
        "    df[numeric_cols] = SimpleImputer(strategy='mean').fit_transform(df[numeric_cols])\n",
        "for col in categorical_cols:\n",
        "    df[col] = df[col].fillna(df[col].mode()[0] if not df[col].mode().empty else 'missing')\n",
        "\n",
        "# Encode categoricals\n",
        "for col in categorical_cols:\n",
        "    if df[col].nunique() <= 10:\n",
        "        df = pd.get_dummies(df, columns=[col], drop_first=True)\n",
        "    else:\n",
        "        df[col] = LabelEncoder().fit_transform(df[col])\n",
        "\n",
        "# Scale numeric columns\n",
        "if numeric_cols:\n",
        "    df[numeric_cols] = StandardScaler().fit_transform(df[numeric_cols])\n",
        "\n",
        "# Save cleaned version\n",
        "df.to_csv(os.path.join(cleaned_path, 'cleaned_Titanic.csv'), index=False)\n",
        "print('Saved cleaned dataset: cleaned_Titanic.csv')"
      ]
    },
    {
      "cell_type": "markdown",
      "id": "0c967af5",
      "metadata": {
        "id": "0c967af5"
      },
      "source": [
        "### Preprocess `AmazonReviews.csv`"
      ]
    },
    {
      "cell_type": "code",
      "execution_count": 16,
      "id": "a9a15c3e",
      "metadata": {
        "colab": {
          "base_uri": "https://localhost:8080/",
          "height": 356
        },
        "id": "a9a15c3e",
        "outputId": "2b8b54ba-bcdc-47e6-f13d-ecdccede9240"
      },
      "outputs": [
        {
          "output_type": "error",
          "ename": "FileNotFoundError",
          "evalue": "[Errno 2] No such file or directory: '/content/drive/MyDrive/AI_Datasets/AmazonReviews.csv'",
          "traceback": [
            "\u001b[0;31m---------------------------------------------------------------------------\u001b[0m",
            "\u001b[0;31mFileNotFoundError\u001b[0m                         Traceback (most recent call last)",
            "\u001b[0;32m<ipython-input-16-1785753992>\u001b[0m in \u001b[0;36m<cell line: 0>\u001b[0;34m()\u001b[0m\n\u001b[1;32m      1\u001b[0m \u001b[0;31m# Load and preprocess AmazonReviews.csv\u001b[0m\u001b[0;34m\u001b[0m\u001b[0;34m\u001b[0m\u001b[0m\n\u001b[1;32m      2\u001b[0m \u001b[0mfile_path\u001b[0m \u001b[0;34m=\u001b[0m \u001b[0mos\u001b[0m\u001b[0;34m.\u001b[0m\u001b[0mpath\u001b[0m\u001b[0;34m.\u001b[0m\u001b[0mjoin\u001b[0m\u001b[0;34m(\u001b[0m\u001b[0mbase_path\u001b[0m\u001b[0;34m,\u001b[0m \u001b[0;34m'AmazonReviews.csv'\u001b[0m\u001b[0;34m)\u001b[0m\u001b[0;34m\u001b[0m\u001b[0;34m\u001b[0m\u001b[0m\n\u001b[0;32m----> 3\u001b[0;31m \u001b[0mdf\u001b[0m \u001b[0;34m=\u001b[0m \u001b[0mpd\u001b[0m\u001b[0;34m.\u001b[0m\u001b[0mread_csv\u001b[0m\u001b[0;34m(\u001b[0m\u001b[0mfile_path\u001b[0m\u001b[0;34m)\u001b[0m\u001b[0;34m\u001b[0m\u001b[0;34m\u001b[0m\u001b[0m\n\u001b[0m\u001b[1;32m      4\u001b[0m \u001b[0mprint\u001b[0m\u001b[0;34m(\u001b[0m\u001b[0;34m'Original shape:'\u001b[0m\u001b[0;34m,\u001b[0m \u001b[0mdf\u001b[0m\u001b[0;34m.\u001b[0m\u001b[0mshape\u001b[0m\u001b[0;34m)\u001b[0m\u001b[0;34m\u001b[0m\u001b[0;34m\u001b[0m\u001b[0m\n\u001b[1;32m      5\u001b[0m \u001b[0;34m\u001b[0m\u001b[0m\n",
            "\u001b[0;32m/usr/local/lib/python3.11/dist-packages/pandas/io/parsers/readers.py\u001b[0m in \u001b[0;36mread_csv\u001b[0;34m(filepath_or_buffer, sep, delimiter, header, names, index_col, usecols, dtype, engine, converters, true_values, false_values, skipinitialspace, skiprows, skipfooter, nrows, na_values, keep_default_na, na_filter, verbose, skip_blank_lines, parse_dates, infer_datetime_format, keep_date_col, date_parser, date_format, dayfirst, cache_dates, iterator, chunksize, compression, thousands, decimal, lineterminator, quotechar, quoting, doublequote, escapechar, comment, encoding, encoding_errors, dialect, on_bad_lines, delim_whitespace, low_memory, memory_map, float_precision, storage_options, dtype_backend)\u001b[0m\n\u001b[1;32m   1024\u001b[0m     \u001b[0mkwds\u001b[0m\u001b[0;34m.\u001b[0m\u001b[0mupdate\u001b[0m\u001b[0;34m(\u001b[0m\u001b[0mkwds_defaults\u001b[0m\u001b[0;34m)\u001b[0m\u001b[0;34m\u001b[0m\u001b[0;34m\u001b[0m\u001b[0m\n\u001b[1;32m   1025\u001b[0m \u001b[0;34m\u001b[0m\u001b[0m\n\u001b[0;32m-> 1026\u001b[0;31m     \u001b[0;32mreturn\u001b[0m \u001b[0m_read\u001b[0m\u001b[0;34m(\u001b[0m\u001b[0mfilepath_or_buffer\u001b[0m\u001b[0;34m,\u001b[0m \u001b[0mkwds\u001b[0m\u001b[0;34m)\u001b[0m\u001b[0;34m\u001b[0m\u001b[0;34m\u001b[0m\u001b[0m\n\u001b[0m\u001b[1;32m   1027\u001b[0m \u001b[0;34m\u001b[0m\u001b[0m\n\u001b[1;32m   1028\u001b[0m \u001b[0;34m\u001b[0m\u001b[0m\n",
            "\u001b[0;32m/usr/local/lib/python3.11/dist-packages/pandas/io/parsers/readers.py\u001b[0m in \u001b[0;36m_read\u001b[0;34m(filepath_or_buffer, kwds)\u001b[0m\n\u001b[1;32m    618\u001b[0m \u001b[0;34m\u001b[0m\u001b[0m\n\u001b[1;32m    619\u001b[0m     \u001b[0;31m# Create the parser.\u001b[0m\u001b[0;34m\u001b[0m\u001b[0;34m\u001b[0m\u001b[0m\n\u001b[0;32m--> 620\u001b[0;31m     \u001b[0mparser\u001b[0m \u001b[0;34m=\u001b[0m \u001b[0mTextFileReader\u001b[0m\u001b[0;34m(\u001b[0m\u001b[0mfilepath_or_buffer\u001b[0m\u001b[0;34m,\u001b[0m \u001b[0;34m**\u001b[0m\u001b[0mkwds\u001b[0m\u001b[0;34m)\u001b[0m\u001b[0;34m\u001b[0m\u001b[0;34m\u001b[0m\u001b[0m\n\u001b[0m\u001b[1;32m    621\u001b[0m \u001b[0;34m\u001b[0m\u001b[0m\n\u001b[1;32m    622\u001b[0m     \u001b[0;32mif\u001b[0m \u001b[0mchunksize\u001b[0m \u001b[0;32mor\u001b[0m \u001b[0miterator\u001b[0m\u001b[0;34m:\u001b[0m\u001b[0;34m\u001b[0m\u001b[0;34m\u001b[0m\u001b[0m\n",
            "\u001b[0;32m/usr/local/lib/python3.11/dist-packages/pandas/io/parsers/readers.py\u001b[0m in \u001b[0;36m__init__\u001b[0;34m(self, f, engine, **kwds)\u001b[0m\n\u001b[1;32m   1618\u001b[0m \u001b[0;34m\u001b[0m\u001b[0m\n\u001b[1;32m   1619\u001b[0m         \u001b[0mself\u001b[0m\u001b[0;34m.\u001b[0m\u001b[0mhandles\u001b[0m\u001b[0;34m:\u001b[0m \u001b[0mIOHandles\u001b[0m \u001b[0;34m|\u001b[0m \u001b[0;32mNone\u001b[0m \u001b[0;34m=\u001b[0m \u001b[0;32mNone\u001b[0m\u001b[0;34m\u001b[0m\u001b[0;34m\u001b[0m\u001b[0m\n\u001b[0;32m-> 1620\u001b[0;31m         \u001b[0mself\u001b[0m\u001b[0;34m.\u001b[0m\u001b[0m_engine\u001b[0m \u001b[0;34m=\u001b[0m \u001b[0mself\u001b[0m\u001b[0;34m.\u001b[0m\u001b[0m_make_engine\u001b[0m\u001b[0;34m(\u001b[0m\u001b[0mf\u001b[0m\u001b[0;34m,\u001b[0m \u001b[0mself\u001b[0m\u001b[0;34m.\u001b[0m\u001b[0mengine\u001b[0m\u001b[0;34m)\u001b[0m\u001b[0;34m\u001b[0m\u001b[0;34m\u001b[0m\u001b[0m\n\u001b[0m\u001b[1;32m   1621\u001b[0m \u001b[0;34m\u001b[0m\u001b[0m\n\u001b[1;32m   1622\u001b[0m     \u001b[0;32mdef\u001b[0m \u001b[0mclose\u001b[0m\u001b[0;34m(\u001b[0m\u001b[0mself\u001b[0m\u001b[0;34m)\u001b[0m \u001b[0;34m->\u001b[0m \u001b[0;32mNone\u001b[0m\u001b[0;34m:\u001b[0m\u001b[0;34m\u001b[0m\u001b[0;34m\u001b[0m\u001b[0m\n",
            "\u001b[0;32m/usr/local/lib/python3.11/dist-packages/pandas/io/parsers/readers.py\u001b[0m in \u001b[0;36m_make_engine\u001b[0;34m(self, f, engine)\u001b[0m\n\u001b[1;32m   1878\u001b[0m                 \u001b[0;32mif\u001b[0m \u001b[0;34m\"b\"\u001b[0m \u001b[0;32mnot\u001b[0m \u001b[0;32min\u001b[0m \u001b[0mmode\u001b[0m\u001b[0;34m:\u001b[0m\u001b[0;34m\u001b[0m\u001b[0;34m\u001b[0m\u001b[0m\n\u001b[1;32m   1879\u001b[0m                     \u001b[0mmode\u001b[0m \u001b[0;34m+=\u001b[0m \u001b[0;34m\"b\"\u001b[0m\u001b[0;34m\u001b[0m\u001b[0;34m\u001b[0m\u001b[0m\n\u001b[0;32m-> 1880\u001b[0;31m             self.handles = get_handle(\n\u001b[0m\u001b[1;32m   1881\u001b[0m                 \u001b[0mf\u001b[0m\u001b[0;34m,\u001b[0m\u001b[0;34m\u001b[0m\u001b[0;34m\u001b[0m\u001b[0m\n\u001b[1;32m   1882\u001b[0m                 \u001b[0mmode\u001b[0m\u001b[0;34m,\u001b[0m\u001b[0;34m\u001b[0m\u001b[0;34m\u001b[0m\u001b[0m\n",
            "\u001b[0;32m/usr/local/lib/python3.11/dist-packages/pandas/io/common.py\u001b[0m in \u001b[0;36mget_handle\u001b[0;34m(path_or_buf, mode, encoding, compression, memory_map, is_text, errors, storage_options)\u001b[0m\n\u001b[1;32m    871\u001b[0m         \u001b[0;32mif\u001b[0m \u001b[0mioargs\u001b[0m\u001b[0;34m.\u001b[0m\u001b[0mencoding\u001b[0m \u001b[0;32mand\u001b[0m \u001b[0;34m\"b\"\u001b[0m \u001b[0;32mnot\u001b[0m \u001b[0;32min\u001b[0m \u001b[0mioargs\u001b[0m\u001b[0;34m.\u001b[0m\u001b[0mmode\u001b[0m\u001b[0;34m:\u001b[0m\u001b[0;34m\u001b[0m\u001b[0;34m\u001b[0m\u001b[0m\n\u001b[1;32m    872\u001b[0m             \u001b[0;31m# Encoding\u001b[0m\u001b[0;34m\u001b[0m\u001b[0;34m\u001b[0m\u001b[0m\n\u001b[0;32m--> 873\u001b[0;31m             handle = open(\n\u001b[0m\u001b[1;32m    874\u001b[0m                 \u001b[0mhandle\u001b[0m\u001b[0;34m,\u001b[0m\u001b[0;34m\u001b[0m\u001b[0;34m\u001b[0m\u001b[0m\n\u001b[1;32m    875\u001b[0m                 \u001b[0mioargs\u001b[0m\u001b[0;34m.\u001b[0m\u001b[0mmode\u001b[0m\u001b[0;34m,\u001b[0m\u001b[0;34m\u001b[0m\u001b[0;34m\u001b[0m\u001b[0m\n",
            "\u001b[0;31mFileNotFoundError\u001b[0m: [Errno 2] No such file or directory: '/content/drive/MyDrive/AI_Datasets/AmazonReviews.csv'"
          ]
        }
      ],
      "source": [
        "# Load and preprocess AmazonReviews.csv\n",
        "file_path = os.path.join(base_path, 'AmazonReviews.csv')\n",
        "df = pd.read_csv(file_path)\n",
        "print('Original shape:', df.shape)\n",
        "\n",
        "# Drop columns with >50% missing\n",
        "df = df.dropna(thresh=len(df)*0.5, axis=1)\n",
        "\n",
        "# Identify column types\n",
        "numeric_cols = df.select_dtypes(include='number').columns.tolist()\n",
        "categorical_cols = df.select_dtypes(exclude='number').columns.tolist()\n",
        "\n",
        "# Impute\n",
        "if numeric_cols:\n",
        "    df[numeric_cols] = SimpleImputer(strategy='mean').fit_transform(df[numeric_cols])\n",
        "for col in categorical_cols:\n",
        "    df[col] = df[col].fillna(df[col].mode()[0] if not df[col].mode().empty else 'missing')\n",
        "\n",
        "# Encode categoricals\n",
        "for col in categorical_cols:\n",
        "    if df[col].nunique() <= 10:\n",
        "        df = pd.get_dummies(df, columns=[col], drop_first=True)\n",
        "    else:\n",
        "        df[col] = LabelEncoder().fit_transform(df[col])\n",
        "\n",
        "# Scale numeric columns\n",
        "if numeric_cols:\n",
        "    df[numeric_cols] = StandardScaler().fit_transform(df[numeric_cols])\n",
        "\n",
        "# Save cleaned version\n",
        "df.to_csv(os.path.join(cleaned_path, 'cleaned_AmazonReviews.csv'), index=False)\n",
        "print('Saved cleaned dataset: cleaned_AmazonReviews.csv')"
      ]
    },
    {
      "cell_type": "markdown",
      "id": "912f91e4",
      "metadata": {
        "id": "912f91e4"
      },
      "source": [
        "### Preprocess `creditcard.csv`"
      ]
    },
    {
      "cell_type": "code",
      "execution_count": 12,
      "id": "70c7868b",
      "metadata": {
        "id": "70c7868b",
        "colab": {
          "base_uri": "https://localhost:8080/"
        },
        "outputId": "c86ebe1f-fe39-4d6c-b5b0-ab482150515c"
      },
      "outputs": [
        {
          "output_type": "stream",
          "name": "stdout",
          "text": [
            "Original shape: (284807, 31)\n",
            "Saved cleaned dataset: cleaned_creditcard.csv\n"
          ]
        }
      ],
      "source": [
        "# Load and preprocess creditcard.csv\n",
        "file_path = os.path.join(base_path, 'creditcard.csv')\n",
        "df = pd.read_csv(file_path)\n",
        "print('Original shape:', df.shape)\n",
        "\n",
        "# Drop columns with >50% missing\n",
        "df = df.dropna(thresh=len(df)*0.5, axis=1)\n",
        "\n",
        "# Identify column types\n",
        "numeric_cols = df.select_dtypes(include='number').columns.tolist()\n",
        "categorical_cols = df.select_dtypes(exclude='number').columns.tolist()\n",
        "\n",
        "# Impute\n",
        "if numeric_cols:\n",
        "    df[numeric_cols] = SimpleImputer(strategy='mean').fit_transform(df[numeric_cols])\n",
        "for col in categorical_cols:\n",
        "    df[col] = df[col].fillna(df[col].mode()[0] if not df[col].mode().empty else 'missing')\n",
        "\n",
        "# Encode categoricals\n",
        "for col in categorical_cols:\n",
        "    if df[col].nunique() <= 10:\n",
        "        df = pd.get_dummies(df, columns=[col], drop_first=True)\n",
        "    else:\n",
        "        df[col] = LabelEncoder().fit_transform(df[col])\n",
        "\n",
        "# Scale numeric columns\n",
        "if numeric_cols:\n",
        "    df[numeric_cols] = StandardScaler().fit_transform(df[numeric_cols])\n",
        "\n",
        "# Save cleaned version\n",
        "df.to_csv(os.path.join(cleaned_path, 'cleaned_creditcard.csv'), index=False)\n",
        "print('Saved cleaned dataset: cleaned_creditcard.csv')"
      ]
    },
    {
      "cell_type": "markdown",
      "id": "fb4bf6fb",
      "metadata": {
        "id": "fb4bf6fb"
      },
      "source": [
        "### Preprocess `dirty_deputies.csv`"
      ]
    },
    {
      "cell_type": "code",
      "execution_count": 14,
      "id": "5e37469a",
      "metadata": {
        "id": "5e37469a",
        "colab": {
          "base_uri": "https://localhost:8080/"
        },
        "outputId": "d489cb75-8ec9-4b12-ebba-e9723f7a1684"
      },
      "outputs": [
        {
          "output_type": "stream",
          "name": "stdout",
          "text": [
            "Original shape: (339089, 18)\n",
            "Saved cleaned dataset: cleaned_dirty_deputies.csv\n"
          ]
        }
      ],
      "source": [
        "# Load and preprocess dirty_deputies.csv\n",
        "file_path = os.path.join(base_path, 'dirty_deputies.csv')\n",
        "df = pd.read_csv(file_path)\n",
        "print('Original shape:', df.shape)\n",
        "\n",
        "# Drop columns with >50% missing\n",
        "df = df.dropna(thresh=len(df)*0.5, axis=1)\n",
        "\n",
        "# Identify column types\n",
        "numeric_cols = df.select_dtypes(include='number').columns.tolist()\n",
        "categorical_cols = df.select_dtypes(exclude='number').columns.tolist()\n",
        "\n",
        "# Impute\n",
        "if numeric_cols:\n",
        "    df[numeric_cols] = SimpleImputer(strategy='mean').fit_transform(df[numeric_cols])\n",
        "for col in categorical_cols:\n",
        "    df[col] = df[col].fillna(df[col].mode()[0] if not df[col].mode().empty else 'missing')\n",
        "\n",
        "# Encode categoricals\n",
        "for col in categorical_cols:\n",
        "    if df[col].nunique() <= 10:\n",
        "        df = pd.get_dummies(df, columns=[col], drop_first=True)\n",
        "    else:\n",
        "        df[col] = df[col].astype(str)\n",
        "        df[col] = LabelEncoder().fit_transform(df[col])\n",
        "\n",
        "# Scale numeric columns\n",
        "if numeric_cols:\n",
        "    df[numeric_cols] = StandardScaler().fit_transform(df[numeric_cols])\n",
        "\n",
        "# Save cleaned version\n",
        "df.to_csv(os.path.join(cleaned_path, 'cleaned_dirty_deputies.csv'), index=False)\n",
        "print('Saved cleaned dataset: cleaned_dirty_deputies.csv')"
      ]
    }
  ],
  "metadata": {
    "colab": {
      "provenance": [],
      "include_colab_link": true
    },
    "language_info": {
      "name": "python"
    },
    "kernelspec": {
      "name": "python3",
      "display_name": "Python 3"
    }
  },
  "nbformat": 4,
  "nbformat_minor": 5
}